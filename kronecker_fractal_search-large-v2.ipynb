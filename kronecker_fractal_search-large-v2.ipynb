{
 "cells": [
  {
   "cell_type": "code",
   "execution_count": 1,
   "metadata": {
    "collapsed": false
   },
   "outputs": [],
   "source": [
    "import numpy as np\n",
    "import math\n",
    "from scipy import spatial\n",
    "import random\n",
    "from random import randrange\n",
    "from scipy.stats import powerlaw\n",
    "from scipy import stats\n",
    "import csv\n",
    "import networkx as nx\n",
    "import matplotlib.pyplot as plt\n",
    "from collections import defaultdict\n",
    "#%matplotlib inline\n",
    "from apgl.graph import *\n",
    "from apgl.generator.KroneckerGenerator import KroneckerGenerator\n",
    "from apgl.io.SimpleGraphWriter import SimpleGraphWriter"
   ]
  },
  {
   "cell_type": "markdown",
   "metadata": {},
   "source": [
    "Creating the Kornecker Graph using a python Graph Library [APGL](https://pythonhosted.org/apgl/KroneckerGenerator.html). This kronecker graph has 25 nodes, so it will generate a 25 by 25 lattice"
   ]
  },
  {
   "cell_type": "code",
   "execution_count": 2,
   "metadata": {
    "collapsed": false
   },
   "outputs": [
    {
     "name": "stderr",
     "output_type": "stream",
     "text": [
      "/usr/local/lib/python2.7/dist-packages/scipy/sparse/compressed.py:690: SparseEfficiencyWarning: Changing the sparsity structure of a csr_matrix is expensive. lil_matrix is more efficient.\n",
      "  SparseEfficiencyWarning)\n"
     ]
    }
   ],
   "source": [
    "## The seed graph is a 5-vertex graph. All of the nodes have a self loop, \n",
    "## and apart from that they have the following edges\n",
    "initialGraph = SparseGraph(VertexList(5, 1))\n",
    "initialGraph.addEdge(1, 2)\n",
    "initialGraph.addEdge(2, 3)\n",
    "initialGraph.addEdge(1, 4)\n",
    "initialGraph.addEdge(2, 4)\n",
    "initialGraph.addEdge(1, 3)\n",
    "initialGraph.addEdge(0, 1)\n",
    "\n",
    "for i in range(5):\n",
    "        initialGraph.addEdge(i, i)\n",
    "\n",
    "        \n",
    "## Now we are using the seed graph to recrusively generate a kronecker graph that has\n",
    "## 5^5 = 3125 vertexes\n",
    "k = 6\n",
    "generator = KroneckerGenerator(initialGraph, k)\n",
    "graph = generator.generate()"
   ]
  },
  {
   "cell_type": "code",
   "execution_count": 3,
   "metadata": {
    "collapsed": true
   },
   "outputs": [],
   "source": [
    "z = graph.getAllEdges()"
   ]
  },
  {
   "cell_type": "code",
   "execution_count": 9,
   "metadata": {
    "collapsed": true
   },
   "outputs": [],
   "source": [
    "with open('coords15625.csv', 'wb') as f:\n",
    "    writer = csv.writer(f, delimiter=' ')\n",
    "    for edge in z:\n",
    "        writer.writerow(edge)"
   ]
  },
  {
   "cell_type": "code",
   "execution_count": 3,
   "metadata": {
    "collapsed": true
   },
   "outputs": [],
   "source": [
    "x = graph.adjacencyMatrix()"
   ]
  },
  {
   "cell_type": "code",
   "execution_count": 4,
   "metadata": {
    "collapsed": false
   },
   "outputs": [
    {
     "data": {
      "text/plain": [
       "<matplotlib.figure.Figure at 0x7f4c9426a210>"
      ]
     },
     "metadata": {},
     "output_type": "display_data"
    },
    {
     "data": {
      "image/png": "[encoded data removed]",
      "text/plain": [
       "<matplotlib.figure.Figure at 0x7f4c9426a250>"
      ]
     },
     "metadata": {},
     "output_type": "display_data"
    }
   ],
   "source": [
    "# plt.figure(figsize=(12,12))\n",
    "# plt.matshow(x,cmap=plt.cm.gray)\n",
    "# plt.show()"
   ]
  },
  {
   "cell_type": "code",
   "execution_count": 7,
   "metadata": {
    "collapsed": false
   },
   "outputs": [],
   "source": [
    "#G = nx.from_numpy_matrix(x)"
   ]
  },
  {
   "cell_type": "code",
   "execution_count": 8,
   "metadata": {
    "collapsed": false
   },
   "outputs": [],
   "source": [
    "#print nx.is_connected(G)\n",
    "#print G.number_of_nodes()"
   ]
  },
  {
   "cell_type": "markdown",
   "metadata": {},
   "source": [
    "Now we are trying the greedy routing from a randomly selected source and a target. This is the algorithm:\n",
    "- We randomly sample co-ordinates of a source node and a traget node in the 2d lattice. If the value in the adjacency matrix of the randomly sampled nodes are not 1 then we sample the nodes until its value is 1, because the points whose value is 0 in the adjacency matrix are the empty points.\n",
    "\n",
    "- Then for each value of $\\alpha$ we run a greedy routing from each node. As we have already chosen a lattice whose vertices are conncted, we traverse from the source nodes and target nodes. For each timestep we have a current node, who has neighbours on top, bottom, right, left for which the number of steps is 1, and we have the corner neighbors e.g. top-right, top-left, bottom-right and bottom-left, for which the number of step is 2. We only have neigbors if there value in the kronecker adjacency matrix is 1. We also find a shortcut neighbor which is sampled using a power  law distribution using $\\alpha$ parameter. If the shortcut neighbor sampled has a value 0 in the adjacency matrix then we sample again until we find a neihbor that has a value of 1 in the adjacency matrix we derive from the kronecker graph.\n",
    "\n",
    "- We try all the neighbors to take a step. We proceed towards the neighbor that is closest to the target. If we take a step to any of the corner neighbors, we count it as a 2-step movement as we are counting the distance using manhattan distance.\n",
    "\n",
    "- We count the number of steps it takes to go to the neighbor.\n",
    "\n",
    "- We run this algortihm 200 times and get the average steps taken from randomly sampled source and target node for each $\\alpha$"
   ]
  },
  {
   "cell_type": "code",
   "execution_count": 12,
   "metadata": {
    "collapsed": false,
    "scrolled": false
   },
   "outputs": [
    {
     "name": "stdout",
     "output_type": "stream",
     "text": [
      "0\n"
     ]
    },
    {
     "name": "stderr",
     "output_type": "stream",
     "text": [
      "/usr/local/lib/python2.7/dist-packages/ipykernel/__main__.py:95: DeprecationWarning: using a non-integer number instead of an integer will result in an error in the future\n",
      "/usr/local/lib/python2.7/dist-packages/ipykernel/__main__.py:99: DeprecationWarning: using a non-integer number instead of an integer will result in an error in the future\n",
      "/usr/local/lib/python2.7/dist-packages/ipykernel/__main__.py:103: DeprecationWarning: using a non-integer number instead of an integer will result in an error in the future\n",
      "/usr/local/lib/python2.7/dist-packages/ipykernel/__main__.py:107: DeprecationWarning: using a non-integer number instead of an integer will result in an error in the future\n"
     ]
    },
    {
     "name": "stdout",
     "output_type": "stream",
     "text": [
      "10\n",
      "20\n",
      "30\n",
      "40\n",
      "50\n",
      "60\n",
      "70\n",
      "80\n",
      "90\n",
      "100\n",
      "110\n",
      "120\n",
      "130\n",
      "140\n",
      "150\n",
      "160\n",
      "170\n",
      "180\n",
      "190\n",
      "200\n",
      "210\n",
      "220\n",
      "230\n",
      "240\n",
      "250\n",
      "260\n",
      "270\n",
      "280\n",
      "290\n",
      "300\n",
      "310\n",
      "320\n",
      "330\n",
      "340\n",
      "350\n",
      "360\n",
      "370\n",
      "380\n",
      "390\n",
      "400\n",
      "410\n",
      "420\n",
      "430\n",
      "440\n",
      "450\n",
      "460\n",
      "470\n",
      "480\n",
      "490\n",
      "500\n",
      "510\n",
      "520\n",
      "530\n",
      "540\n",
      "550\n"
     ]
    },
    {
     "ename": "KeyboardInterrupt",
     "evalue": "",
     "output_type": "error",
     "traceback": [
      "\u001b[1;31m---------------------------------------------------------------------------\u001b[0m",
      "\u001b[1;31mKeyboardInterrupt\u001b[0m                         Traceback (most recent call last)",
      "\u001b[1;32m<ipython-input-12-a77c87d02885>\u001b[0m in \u001b[0;36m<module>\u001b[1;34m()\u001b[0m\n\u001b[0;32m    119\u001b[0m                 \u001b[0mpj\u001b[0m \u001b[1;33m=\u001b[0m \u001b[0mp\u001b[0m\u001b[1;33m.\u001b[0m\u001b[0msplit\u001b[0m\u001b[1;33m(\u001b[0m\u001b[1;34m\"-\"\u001b[0m\u001b[1;33m)\u001b[0m\u001b[1;33m[\u001b[0m\u001b[1;36m1\u001b[0m\u001b[1;33m]\u001b[0m\u001b[1;33m\u001b[0m\u001b[0m\n\u001b[0;32m    120\u001b[0m \u001b[1;33m\u001b[0m\u001b[0m\n\u001b[1;32m--> 121\u001b[1;33m                 \u001b[0mspatial_distance\u001b[0m \u001b[1;33m=\u001b[0m \u001b[0mspatial\u001b[0m\u001b[1;33m.\u001b[0m\u001b[0mdistance\u001b[0m\u001b[1;33m.\u001b[0m\u001b[0mcityblock\u001b[0m\u001b[1;33m(\u001b[0m\u001b[0mnp\u001b[0m\u001b[1;33m.\u001b[0m\u001b[0marray\u001b[0m\u001b[1;33m(\u001b[0m\u001b[1;33m[\u001b[0m\u001b[0mti\u001b[0m\u001b[1;33m,\u001b[0m\u001b[0mtj\u001b[0m\u001b[1;33m]\u001b[0m\u001b[1;33m)\u001b[0m\u001b[1;33m,\u001b[0m\u001b[0mnp\u001b[0m\u001b[1;33m.\u001b[0m\u001b[0marray\u001b[0m\u001b[1;33m(\u001b[0m\u001b[1;33m[\u001b[0m\u001b[0mint\u001b[0m\u001b[1;33m(\u001b[0m\u001b[0mpi\u001b[0m\u001b[1;33m)\u001b[0m\u001b[1;33m,\u001b[0m\u001b[0mint\u001b[0m\u001b[1;33m(\u001b[0m\u001b[0mpj\u001b[0m\u001b[1;33m)\u001b[0m\u001b[1;33m]\u001b[0m\u001b[1;33m)\u001b[0m\u001b[1;33m)\u001b[0m\u001b[1;33m\u001b[0m\u001b[0m\n\u001b[0m\u001b[0;32m    122\u001b[0m                 \u001b[1;31m#print \"spatial distance, pipj, titj\", spatial_distance, pi, pj, ti, tj\u001b[0m\u001b[1;33m\u001b[0m\u001b[1;33m\u001b[0m\u001b[0m\n\u001b[0;32m    123\u001b[0m                 \u001b[1;32mif\u001b[0m \u001b[0mspatial_distance\u001b[0m \u001b[1;33m<\u001b[0m \u001b[0md_min\u001b[0m\u001b[1;33m:\u001b[0m\u001b[1;33m\u001b[0m\u001b[0m\n",
      "\u001b[1;31mKeyboardInterrupt\u001b[0m: "
     ]
    }
   ],
   "source": [
    "edgelist = dict()\n",
    "dist = dict()\n",
    "\n",
    "f_out = open(\"results_kleinberg_final15625v2.txt\",\"w\")\n",
    "\n",
    "dim = x.shape[0]\n",
    "distances = dict()\n",
    "\n",
    "output_map = defaultdict(list)\n",
    "\n",
    "\n",
    "\n",
    "\n",
    "def truncated_power_law(a, m):\n",
    "    x = np.arange(1, m+1, dtype='float')\n",
    "    ## Why alpha - 1\n",
    "    pmf = 1/x**(a-1)\n",
    "    pmf /= pmf.sum()\n",
    "    return stats.rv_discrete(values=(range(1, m+1), pmf))\n",
    "\n",
    "for net in range(10000):\n",
    "    if net%100==0:\n",
    "        print net\n",
    "    si = random.sample(range(dim),1)[0]\n",
    "    sj = random.sample(range(dim),1)[0]\n",
    "    while x[si,sj] < 1:\n",
    "        si = random.sample(range(dim),1)[0]\n",
    "        sj = random.sample(range(dim),1)[0]\n",
    "    ti = random.sample(range(dim),1)[0]\n",
    "    tj = random.sample(range(dim),1)[0]\n",
    "\n",
    "    while x[ti,tj] < 1:\n",
    "        ti = random.sample(range(dim),1)[0]\n",
    "        tj = random.sample(range(dim),1)[0]\n",
    "    #print \"source si-sj\", si, sj\n",
    "    #print \"target ti-tj\", ti ,tj\n",
    "    for q1 in [0.1,0.2,0.3,0.4,0.5,0.6,0.7,0.8,0.9,1,1.1,1.2,1.3,1.4,1.5,1.6,1.7,1.8,1.9,2,2.1,2.2,2.3,2.4,2.5]:\n",
    "        #print \"current q1\", q1\n",
    "        last_nodes = [None]*2\n",
    "        recur = 0\n",
    "        reachable = True\n",
    "        cstm = truncated_power_law(q1,23)\n",
    "        l = 0\n",
    "        current = str(si)+\"-\"+str(sj)\n",
    "        #print \"current source\",current\n",
    "        while (current != str(ti)+\"-\"+str(tj) and l <= dim*2):\n",
    "            d_min = 15625\n",
    "            edgelist = dict()\n",
    "            edgelist[current] = []\n",
    "            ii = int(current.split(\"-\")[0])\n",
    "            ij = int(current.split(\"-\")[1])\n",
    "            if ii < dim-1:\n",
    "                if x[ii+1,ij] > 0:\n",
    "                    edgelist[str(ii)+\"-\"+str(ij)].append([str(ii+1)+\"-\"+str(ij),1])\n",
    "                if ij < dim -1:\n",
    "                    if x[ii+1,ij+1] > 0:\n",
    "                        edgelist[str(ii)+\"-\"+str(ij)].append([str(ii+1)+\"-\"+str(ij+1),2])\n",
    "                if ij > 0:\n",
    "                    if x[ii+1,ij-1] > 0:\n",
    "                        edgelist[str(ii)+\"-\"+str(ij)].append([str(ii+1)+\"-\"+str(ij-1),2])\n",
    "            if ij < dim-1:\n",
    "                if x[ii,ij+1] > 0:\n",
    "                    edgelist[str(ii)+\"-\"+str(ij)].append([str(ii)+\"-\"+str(ij+1),1])\n",
    "                if ii > 0:\n",
    "                    if x[ii-1,ij+1] > 0:\n",
    "                        edgelist[str(ii)+\"-\"+str(ij)].append([str(ii-1)+\"-\"+str(ij+1),2])\n",
    "            if ii > 0:\n",
    "                if x[ii-1,ij] > 0:\n",
    "                    edgelist[str(ii)+\"-\"+str(ij)].append([str(ii-1)+\"-\"+str(ij),1])\n",
    "                if ij > 0:\n",
    "                    if x[ii-1,ij-1] > 0:\n",
    "                        edgelist[str(ii)+\"-\"+str(ij)].append([str(ii-1)+\"-\"+str(ij-1),2])\n",
    "            if ij > 0:\n",
    "                if x[ii,ij-1] > 0:\n",
    "                    edgelist[str(ii)+\"-\"+str(ij)].append([str(ii)+\"-\"+str(ij-1),1])\n",
    "\n",
    "            #print \"edgelist without shortcut\",edgelist\n",
    "            no_shortcuts = 1\n",
    "            ## What is d_max ??\n",
    "            d_max = 1\n",
    "            shortcut_found = False\n",
    "            while not shortcut_found:\n",
    "                for shortcuts in range(no_shortcuts):\n",
    "                    r_sample = cstm.rvs()\n",
    "                    #print \"r_sample\", r_sample\n",
    "                    if (math.floor(r_sample*d_max) > 1):\n",
    "                        k = random.sample(range(int(math.floor(r_sample*d_max))),1)[0]\n",
    "                        #print \"k\", k\n",
    "                        k1 = k\n",
    "                        k2 = math.floor(r_sample*d_max) - k1\n",
    "                        #print \"k1, k2\", k1, k2\n",
    "                        ni = []\n",
    "                        nj = []\n",
    "                    if (ii + k1 <= dim-1) and (ij + k2 <= dim-1):\n",
    "                        if x[ii + k1,ij + k2] > 0:\n",
    "                            ni.append(ii + k1)\n",
    "                            nj.append(ij + k2)\n",
    "                    if (ii + k1 <= dim-1) and (ij - k2 >= 0):\n",
    "                        if x[ii + k1,ij - k2] > 0:\n",
    "                            ni.append(ii + k1)\n",
    "                            nj.append(ij - k2)\n",
    "                    if (ii - k1 >= 0) and (ij + k2 <= dim-1):\n",
    "                        if x[ii - k1,ij + k2] > 0:\n",
    "                            ni.append(ii - k1)\n",
    "                            nj.append(ij + k2)\n",
    "                    if (ii - k1 >= 0) and (ij - k2 >= 0):\n",
    "                        if x[ii - k1,ij - k2] > 0:\n",
    "                            ni.append(ii - k1)\n",
    "                            nj.append(ij - k2)\n",
    "                    #print \"ni-nj\" ,ni , nj\n",
    "                    if ni != []:\n",
    "                        k = random.sample(range(len(ni)),1)[0]\n",
    "                        edgelist[current].append([str(int(ni[k]))+\"-\"+str(int(nj[k])),1])\n",
    "                        shortcut_found = True\n",
    "            #print \"with shortcut\", edgelist\n",
    "            \n",
    "            for p, footstep in edgelist[current]:\n",
    "                pi = p.split(\"-\")[0]\n",
    "                pj = p.split(\"-\")[1]\n",
    "                \n",
    "                spatial_distance = spatial.distance.cityblock(np.array([ti,tj]),np.array([int(pi),int(pj)]))\n",
    "                #print \"spatial distance, pipj, titj\", spatial_distance, pi, pj, ti, tj\n",
    "                if spatial_distance < d_min:\n",
    "                    #print \"inside\"\n",
    "                    d_min = spatial.distance.cityblock(np.array([ti,tj]),np.array([int(pi),int(pj)]))\n",
    "                    tempi = pi\n",
    "                    tempj = pj\n",
    "                    temp_footstep = footstep\n",
    "            last_nodes[1] = last_nodes[0]\n",
    "            last_nodes[0] = current\n",
    "            current = tempi.rstrip()+\"-\"+tempj.rstrip()\n",
    "            if last_nodes[1] == current:\n",
    "                recur += 1\n",
    "                if recur > 10:\n",
    "                    reachable = False\n",
    "                    #print \"the source target is unreachable\", \"q\", q1, \"step\", net, \"recur\", recur\n",
    "                    break\n",
    "                \n",
    "            #print \"next node is\", current, \"temp_footstep is\", temp_footstep\n",
    "            l = l + temp_footstep\n",
    "            #print \"current l\", l\n",
    "            #break\n",
    "        if reachable:\n",
    "            #print \"final l\", l, \"q\", q1, \"step\", net, \"recur\", recur\n",
    "            #break\n",
    "            print >> f_out, q1, l, si, sj, ti, tj\n",
    "            output_map[q1].append(l)\n",
    "        else:\n",
    "            reachable = False\n",
    "            recur = 0\n",
    "\n",
    "    #break\n",
    "f_out.close()"
   ]
  },
  {
   "cell_type": "markdown",
   "metadata": {},
   "source": [
    "The fractal dimension for the embedding lattice is, fd = 1.135. Now we are plotting the log of average steps taken vs the $\\alpha$ values."
   ]
  },
  {
   "cell_type": "code",
   "execution_count": 14,
   "metadata": {
    "collapsed": false
   },
   "outputs": [
    {
     "data": {
      "image/png": "[encoded data removed]",
      "text/plain": [
       "<matplotlib.figure.Figure at 0x7f4bf64a62d0>"
      ]
     },
     "metadata": {},
     "output_type": "display_data"
    }
   ],
   "source": [
    "output_for_plot = {n: sum(output_map[n])/float(len(output_map[n])) for n in output_map.keys()}\n",
    "plt.figure(figsize=(10,10))\n",
    "plt.plot(output_for_plot.keys(), np.log(output_for_plot.values()), 'ro')\n",
    "plt.title(\"\")\n",
    "plt.ylabel(\"ln T for the greedy algorithm\")\n",
    "plt.xlabel(r\"Clustering Exponent $\\alpha$\")\n",
    "plt.xticks(np.arange(0,2.6,0.2))\n",
    "plt.savefig(\"15625.pdf\", format = 'pdf')"
   ]
  },
  {
   "cell_type": "code",
   "execution_count": null,
   "metadata": {
    "collapsed": true
   },
   "outputs": [],
   "source": []
  }
 ],
 "metadata": {
  "kernelspec": {
   "display_name": "Python 2",
   "language": "python",
   "name": "python2"
  },
  "language_info": {
   "codemirror_mode": {
    "name": "ipython",
    "version": 2
   },
   "file_extension": ".py",
   "mimetype": "text/x-python",
   "name": "python",
   "nbconvert_exporter": "python",
   "pygments_lexer": "ipython2",
   "version": "2.7.6"
  }
 },
 "nbformat": 4,
 "nbformat_minor": 0
}
