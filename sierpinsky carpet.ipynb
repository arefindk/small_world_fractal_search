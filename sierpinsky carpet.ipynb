{
 "cells": [
  {
   "cell_type": "code",
   "execution_count": 6,
   "metadata": {
    "collapsed": true
   },
   "outputs": [],
   "source": [
    "import sys\n",
    "import os\n",
    "import numpy as np\n",
    "import math\n",
    "from scipy import spatial\n",
    "import random\n",
    "from random import randrange\n",
    "from scipy.stats import powerlaw\n",
    "from scipy import stats\n",
    "import csv\n",
    "import matplotlib.pyplot as plt\n",
    "from collections import defaultdict\n",
    "%matplotlib inline"
   ]
  },
  {
   "cell_type": "code",
   "execution_count": 7,
   "metadata": {
    "collapsed": true
   },
   "outputs": [],
   "source": [
    "n = 8\n",
    "dim = 3**n"
   ]
  },
  {
   "cell_type": "code",
   "execution_count": 8,
   "metadata": {
    "collapsed": true
   },
   "outputs": [],
   "source": [
    "def in_carpet(x, y):\n",
    "    while True:\n",
    "        if x == 0 or y == 0:\n",
    "            return True\n",
    "        elif x % 3 == 1 and y % 3 == 1:\n",
    "            return False\n",
    "\n",
    "        x /= 3\n",
    "        y /= 3\n",
    "\n",
    "def carpet(n):\n",
    "    for i in xrange(dim):\n",
    "        for j in xrange(dim):\n",
    "            if in_carpet(i, j):\n",
    "                print '*',\n",
    "            else:\n",
    "                print ' ',\n",
    "        print"
   ]
  },
  {
   "cell_type": "code",
   "execution_count": 9,
   "metadata": {
    "collapsed": true
   },
   "outputs": [],
   "source": [
    "x = np.ones((dim,dim))"
   ]
  },
  {
   "cell_type": "code",
   "execution_count": 10,
   "metadata": {
    "collapsed": false
   },
   "outputs": [],
   "source": [
    "for i in xrange(dim):\n",
    "    for j in xrange(dim):\n",
    "        if not in_carpet(i, j):\n",
    "            x[i,j] = 0"
   ]
  },
  {
   "cell_type": "code",
   "execution_count": 11,
   "metadata": {
    "collapsed": false
   },
   "outputs": [
    {
     "name": "stdout",
     "output_type": "stream",
     "text": [
      "0\n"
     ]
    },
    {
     "name": "stderr",
     "output_type": "stream",
     "text": [
      "/usr/local/lib/python2.7/dist-packages/ipykernel/__main__.py:85: DeprecationWarning: using a non-integer number instead of an integer will result in an error in the future\n",
      "/usr/local/lib/python2.7/dist-packages/ipykernel/__main__.py:89: DeprecationWarning: using a non-integer number instead of an integer will result in an error in the future\n",
      "/usr/local/lib/python2.7/dist-packages/ipykernel/__main__.py:93: DeprecationWarning: using a non-integer number instead of an integer will result in an error in the future\n",
      "/usr/local/lib/python2.7/dist-packages/ipykernel/__main__.py:97: DeprecationWarning: using a non-integer number instead of an integer will result in an error in the future\n"
     ]
    },
    {
     "name": "stdout",
     "output_type": "stream",
     "text": [
      "10\n",
      "20\n",
      "30\n",
      "40\n",
      "50\n",
      "60\n",
      "70\n",
      "80\n",
      "90\n",
      "100\n",
      "110\n",
      "120\n",
      "130\n",
      "140\n",
      "150\n",
      "160\n",
      "170\n",
      "180\n",
      "190\n",
      "200\n",
      "210\n",
      "220\n",
      "230\n",
      "240\n",
      "250\n",
      "260\n",
      "270\n",
      "280\n",
      "290\n",
      "300\n",
      "310\n",
      "320\n",
      "330\n",
      "340\n",
      "350\n",
      "360\n",
      "370\n",
      "380\n",
      "390\n",
      "400\n",
      "410\n",
      "420\n",
      "430\n",
      "440\n",
      "450\n",
      "460\n",
      "470\n",
      "480\n",
      "490\n",
      "500\n",
      "510\n",
      "520\n",
      "530\n",
      "540\n",
      "550\n",
      "560\n",
      "570\n",
      "580\n",
      "590\n"
     ]
    }
   ],
   "source": [
    "edgelist = dict()\n",
    "dist = dict()\n",
    "\n",
    "#f_out = open(\"sierpinsky.txt\",\"w\")\n",
    "\n",
    "distances = dict()\n",
    "\n",
    "output_map = defaultdict(list)\n",
    "\n",
    "\n",
    "\n",
    "\n",
    "def truncated_power_law(a, m):\n",
    "    x = np.arange(1, m+1, dtype='float')\n",
    "    ## Why alpha - 1\n",
    "    pmf = 1/x**(a-1)\n",
    "    pmf /= pmf.sum()\n",
    "    return stats.rv_discrete(values=(range(1, m+1), pmf))\n",
    "\n",
    "for net in range(600):\n",
    "    if net%10==0:\n",
    "        print net\n",
    "    si = random.sample(range(dim),1)[0]\n",
    "    sj = random.sample(range(dim),1)[0]\n",
    "    while x[si,sj] < 1:\n",
    "        si = random.sample(range(dim),1)[0]\n",
    "        sj = random.sample(range(dim),1)[0]\n",
    "    ti = random.sample(range(dim),1)[0]\n",
    "    tj = random.sample(range(dim),1)[0]\n",
    "\n",
    "    while x[ti,tj] < 1:\n",
    "        ti = random.sample(range(dim),1)[0]\n",
    "        tj = random.sample(range(dim),1)[0]\n",
    "    #print \"source si-sj\", si, sj\n",
    "    #print \"target ti-tj\", ti ,tj\n",
    "    for q1 in np.arange(1.65, 1.95, step = 0.005):\n",
    "        #print \"##### current q1\", q1\n",
    "        #print \"source si-sj\", si, sj\n",
    "        #print \"target ti-tj\", ti ,tj\n",
    "        last_nodes = [None]*2\n",
    "        recur = 0\n",
    "\n",
    "        cstm = truncated_power_law(q1,dim-2)\n",
    "        l = 0\n",
    "        current = str(si)+\"-\"+str(sj)\n",
    "        #print \"current source\",current\n",
    "        while (current != str(ti)+\"-\"+str(tj) and l <= dim**2):\n",
    "            d_min = dim*2\n",
    "            edgelist = dict()\n",
    "            edgelist[current] = []\n",
    "            ii = int(current.split(\"-\")[0])\n",
    "            ij = int(current.split(\"-\")[1])\n",
    "            if ii < dim-1:\n",
    "                if x[ii+1, ij] > 0:\n",
    "                    edgelist[str(ii)+\"-\"+str(ij)].append(str(ii+1)+\"-\"+str(ij))\n",
    "            if ij < dim-1:\n",
    "                if x[ii, ij+1] > 0:\n",
    "                    edgelist[str(ii)+\"-\"+str(ij)].append(str(ii)+\"-\"+str(ij+1))\n",
    "            if ii > 0:\n",
    "                if [ii-1, ij] > 0:\n",
    "                    edgelist[str(ii)+\"-\"+str(ij)].append(str(ii-1)+\"-\"+str(ij))\n",
    "            if ij > 0:\n",
    "                if [ii, ij-1] >0:\n",
    "                    edgelist[str(ii)+\"-\"+str(ij)].append(str(ii)+\"-\"+str(ij-1))\n",
    "            #print edgelist\n",
    "\n",
    "            #print \"edgelist without shortcut\",edgelist\n",
    "            no_shortcuts = 1\n",
    "            ## What is d_max ??\n",
    "            d_max = 1\n",
    "            shortcut_found = False\n",
    "            while not shortcut_found:\n",
    "                for shortcuts in range(no_shortcuts):\n",
    "                    r_sample = cstm.rvs()\n",
    "                    #print \"r_sample\", r_sample\n",
    "                    if (math.floor(r_sample*d_max) > 1):\n",
    "                        k = random.sample(range(int(math.floor(r_sample*d_max))),1)[0]\n",
    "                        #print \"k\", k\n",
    "                        k1 = k\n",
    "                        k2 = math.floor(r_sample*d_max) - k1\n",
    "                        #print \"k1, k2\", k1, k2\n",
    "                        ni = []\n",
    "                        nj = []\n",
    "                    if (ii + k1 <= dim-1) and (ij + k2 <= dim-1):\n",
    "                        if x[ii + k1,ij + k2] > 0:\n",
    "                            ni.append(ii + k1)\n",
    "                            nj.append(ij + k2)\n",
    "                    if (ii + k1 <= dim-1) and (ij - k2 >= 0):\n",
    "                        if x[ii + k1,ij - k2] > 0:\n",
    "                            ni.append(ii + k1)\n",
    "                            nj.append(ij - k2)\n",
    "                    if (ii - k1 >= 0) and (ij + k2 <= dim-1):\n",
    "                        if x[ii - k1,ij + k2] > 0:\n",
    "                            ni.append(ii - k1)\n",
    "                            nj.append(ij + k2)\n",
    "                    if (ii - k1 >= 0) and (ij - k2 >= 0):\n",
    "                        if x[ii - k1,ij - k2] > 0:\n",
    "                            ni.append(ii - k1)\n",
    "                            nj.append(ij - k2)\n",
    "                    #print \"ni-nj\" ,ni , nj\n",
    "                    if ni != []:\n",
    "                        k = random.sample(range(len(ni)),1)[0]\n",
    "                        edgelist[current].append(str(int(ni[k]))+\"-\"+str(int(nj[k])))\n",
    "                        shortcut_found = True\n",
    "            #print \"with shortcut\", edgelist\n",
    "            for p in edgelist[current]:\n",
    "                pi = p.split(\"-\")[0]\n",
    "                pj = p.split(\"-\")[1]\n",
    "                if spatial.distance.cityblock(np.array([ti,tj]),np.array([int(pi),int(pj)])) < d_min:\n",
    "                    d_min = spatial.distance.cityblock(np.array([ti,tj]),np.array([int(pi),int(pj)]))\n",
    "                    tempi = pi\n",
    "                    tempj = pj\n",
    "            current = tempi.rstrip()+\"-\"+tempj.rstrip()\n",
    "\n",
    "\n",
    "            #print \"next node is\", current\n",
    "            l += 1 \n",
    "            #print \"current l\", l\n",
    "        #print \"final l\", l\n",
    "        #print >> f_out, q1, l, si, sj, ti, tj\n",
    "        output_map[q1].append(l)\n",
    "\n",
    "#f_out.close()"
   ]
  },
  {
   "cell_type": "code",
   "execution_count": null,
   "metadata": {
    "collapsed": false
   },
   "outputs": [],
   "source": [
    "x[22,10]"
   ]
  },
  {
   "cell_type": "code",
   "execution_count": null,
   "metadata": {
    "collapsed": false
   },
   "outputs": [],
   "source": [
    "len(np.arange(1.3, 2.5, step = 0.05))"
   ]
  },
  {
   "cell_type": "code",
   "execution_count": 12,
   "metadata": {
    "collapsed": false
   },
   "outputs": [
    {
     "data": {
      "image/png": "[encoded data removed]",
      "text/plain": [
       "<matplotlib.figure.Figure at 0x7f2621a12b10>"
      ]
     },
     "metadata": {},
     "output_type": "display_data"
    }
   ],
   "source": [
    "output_for_plot = {n: sum(output_map[n])/float(len(output_map[n])) for n in output_map.keys()}\n",
    "plt.figure(figsize=(10,10))\n",
    "plt.plot(output_for_plot.keys(), np.log(output_for_plot.values()), 'ro')\n",
    "plt.title(\"\")\n",
    "plt.ylabel(\"ln T for the greedy algorithm\")\n",
    "plt.xlabel(r\"Clustering Exponent $\\alpha$\")\n",
    "plt.xticks(np.arange(1.6, 2.1, step = 0.1))\n",
    "plt.show()"
   ]
  },
  {
   "cell_type": "code",
   "execution_count": null,
   "metadata": {
    "collapsed": false
   },
   "outputs": [],
   "source": [
    "with open('sierpinsky'+str(dim)+'.csv', 'wb') as f:\n",
    "    writer = csv.writer(f, delimiter = ' ')\n",
    "    for pair in  zip(*np.where(x == 1)):\n",
    "        writer.writerow(pair)\n",
    "f.close()"
   ]
  }
 ],
 "metadata": {
  "kernelspec": {
   "display_name": "Python 2",
   "language": "python",
   "name": "python2"
  },
  "language_info": {
   "codemirror_mode": {
    "name": "ipython",
    "version": 2
   },
   "file_extension": ".py",
   "mimetype": "text/x-python",
   "name": "python",
   "nbconvert_exporter": "python",
   "pygments_lexer": "ipython2",
   "version": "2.7.6"
  }
 },
 "nbformat": 4,
 "nbformat_minor": 0
}
