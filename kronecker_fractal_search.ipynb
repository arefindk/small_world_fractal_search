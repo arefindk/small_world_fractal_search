{
 "cells": [
  {
   "cell_type": "code",
   "execution_count": 1,
   "metadata": {
    "collapsed": false
   },
   "outputs": [],
   "source": [
    "import numpy as np\n",
    "import math\n",
    "from scipy import spatial\n",
    "import random\n",
    "from random import randrange\n",
    "from scipy.stats import powerlaw\n",
    "from scipy import stats\n",
    "import csv\n",
    "import networkx as nx\n",
    "import matplotlib.pyplot as plt\n",
    "from collections import defaultdict\n",
    "%matplotlib inline\n",
    "from apgl.graph import *\n",
    "from apgl.generator.KroneckerGenerator import KroneckerGenerator\n",
    "from apgl.io.SimpleGraphWriter import SimpleGraphWriter"
   ]
  },
  {
   "cell_type": "markdown",
   "metadata": {},
   "source": [
    "Creating the Kornecker Graph using a python Graph Library [APGL](https://pythonhosted.org/apgl/KroneckerGenerator.html). This kronecker graph has 3125 nodes, so it will generate a 3125 by 3125 lattice"
   ]
  },
  {
   "cell_type": "code",
   "execution_count": 2,
   "metadata": {
    "collapsed": false
   },
   "outputs": [
    {
     "name": "stderr",
     "output_type": "stream",
     "text": [
      "/usr/local/lib/python2.7/dist-packages/scipy/sparse/compressed.py:690: SparseEfficiencyWarning: Changing the sparsity structure of a csr_matrix is expensive. lil_matrix is more efficient.\n",
      "  SparseEfficiencyWarning)\n"
     ]
    }
   ],
   "source": [
    "## The seed graph is a 5-vertex graph. All of the nodes have a self loop, \n",
    "## and apart from that they have the following edges\n",
    "initialGraph = SparseGraph(VertexList(5, 1))\n",
    "initialGraph.addEdge(1, 2)\n",
    "initialGraph.addEdge(2, 3)\n",
    "initialGraph.addEdge(1, 4)\n",
    "initialGraph.addEdge(2, 4)\n",
    "initialGraph.addEdge(1, 3)\n",
    "initialGraph.addEdge(0, 1)\n",
    "\n",
    "for i in range(5):\n",
    "        initialGraph.addEdge(i, i)\n",
    "\n",
    "        \n",
    "## Now we are using the seed graph to recrusively generate a kronecker graph that has\n",
    "## 5^5 = 3125 vertexes\n",
    "k = 5\n",
    "generator = KroneckerGenerator(initialGraph, k)\n",
    "graph = generator.generate()"
   ]
  },
  {
   "cell_type": "markdown",
   "metadata": {},
   "source": [
    "Now we are trying to create a 2d lattice using the underlying adjacency matrix created from the Kronecker graph we have just created. To do so we will first export the edges of the graph, then import them into a networkx undirected graph and get the Adjacency matrix from the networkx graph"
   ]
  },
  {
   "cell_type": "code",
   "execution_count": 3,
   "metadata": {
    "collapsed": true
   },
   "outputs": [],
   "source": [
    "g_writer = SimpleGraphWriter()\n",
    "g_writer.writeToFile(\"edgeList2\",graph)"
   ]
  },
  {
   "cell_type": "code",
   "execution_count": 4,
   "metadata": {
    "collapsed": true
   },
   "outputs": [],
   "source": [
    "with open('./edgeList2.txt', 'r') as f:\n",
    "    content = f.readlines()\n",
    "    start = False\n",
    "    coordinates = list()\n",
    "    for line in content:\n",
    "        if start:\n",
    "            coordinates.append(line.strip().split(','))\n",
    "        if line==\"Edges\\n\":\n",
    "            start = True\n",
    "\n",
    "G = nx.Graph()\n",
    "\n",
    "with open('coords2.csv', 'wb') as f:\n",
    "    writer = csv.writer(f, delimiter=' ')\n",
    "    for coordinate in coordinates:\n",
    "        edge = list([int(coordinate[0]),int(coordinate[1])])\n",
    "        writer.writerow([int(coordinate[0]),int(coordinate[1])])\n",
    "        G.add_edge(*edge)\n",
    "        \n",
    "x = nx.to_numpy_matrix(G)"
   ]
  },
  {
   "cell_type": "markdown",
   "metadata": {},
   "source": [
    "We are checking if the graph is connected or not. If the graph is not connected then there could be some nodes that are unreachable from another node, becuase somtimes the shortcuts are even further from target node compared to regular adjacent links."
   ]
  },
  {
   "cell_type": "code",
   "execution_count": 5,
   "metadata": {
    "collapsed": false
   },
   "outputs": [
    {
     "data": {
      "text/plain": [
       "True"
      ]
     },
     "execution_count": 5,
     "metadata": {},
     "output_type": "execute_result"
    }
   ],
   "source": [
    "nx.is_connected(G)"
   ]
  },
  {
   "cell_type": "markdown",
   "metadata": {},
   "source": [
    "Now we are trying the greedy routing from a randomly selected source and a target. This is the algorithm:\n",
    "- We randomly sample co-ordinates of a source node and a traget node in the 2d lattice. If the value in the adjacency matrix of the randomly sampled nodes are not 1 then we sample the nodes until its value is 1, because the points whose value is 0 in the adjacency matrix are the empty points.\n",
    "\n",
    "- Then for each value of $\\alpha$ we run a greedy routing from each node. As we have already chosen a lattice whose vertices are conncted, we traverse from the source nodes and target nodes. For each timestep we have a current node, who has neighbours on top, bottom, right, left for which the number of steps is 1, and we have the corner neighbors e.g. top-right, top-left, bottom-right and bottom-left, for which the number of step is 2. We only have neigbors if there value in the kronecker adjacency matrix is 1. We also find a shortcut neighbor which is sampled using a power  law distribution using $\\alpha$ parameter. If the shortcut neighbor sampled has a value 0 in the adjacency matrix then we sample again until we find a neihbor that has a value of 1 in the adjacency matrix we derive from the kronecker graph.\n",
    "\n",
    "- We try all the neighbors to take a step. We proceed towards the neighbor that is closest to the target. If we take a step to any of the corner neighbors, we count it as a 2-step movement as we are counting the distance using manhattan distance.\n",
    "\n",
    "- We count the number of steps it takes to go to the neighbor.\n",
    "\n",
    "- We run this algortihm 200 times and get the average steps taken from randomly sampled source and target node for each $\\alpha$"
   ]
  },
  {
   "cell_type": "code",
   "execution_count": null,
   "metadata": {
    "collapsed": false,
    "scrolled": true
   },
   "outputs": [
    {
     "name": "stdout",
     "output_type": "stream",
     "text": [
      "0\n"
     ]
    }
   ],
   "source": [
    "edgelist = dict()\n",
    "dist = dict()\n",
    "\n",
    "f_out = open(\"results_kleinberg_final20000b.txt\",\"w\")\n",
    "\n",
    "dim = 3125\n",
    "distances = dict()\n",
    "\n",
    "output_map = defaultdict(list)\n",
    "\n",
    "\n",
    "\n",
    "\n",
    "def truncated_power_law(a, m):\n",
    "    x = np.arange(1, m+1, dtype='float')\n",
    "    ## Why alpha - 1\n",
    "    pmf = 1/x**(a-1)\n",
    "    pmf /= pmf.sum()\n",
    "    return stats.rv_discrete(values=(range(1, m+1), pmf))\n",
    "\n",
    "for net in range(1000):\n",
    "    if net%20==0:\n",
    "        print net\n",
    "    si = random.sample(range(dim),1)[0]\n",
    "    sj = random.sample(range(dim),1)[0]\n",
    "    while x[si,sj] < 1:\n",
    "        si = random.sample(range(dim),1)[0]\n",
    "        sj = random.sample(range(dim),1)[0]\n",
    "    ti = random.sample(range(dim),1)[0]\n",
    "    tj = random.sample(range(dim),1)[0]\n",
    "\n",
    "    while x[ti,tj] < 1:\n",
    "        ti = random.sample(range(dim),1)[0]\n",
    "        tj = random.sample(range(dim),1)[0]\n",
    "    #print \"source si-sj\", si, sj\n",
    "    #print \"target ti-tj\", ti ,tj\n",
    "    for q1 in np.arange(1.5, 2.1, step = 0.01):\n",
    "        #print \"current q1\", q1\n",
    "        last_nodes = [None]*2\n",
    "        recur = 0\n",
    "\n",
    "        cstm = truncated_power_law(q1,dim-2)\n",
    "        l = 0\n",
    "        current = str(si)+\"-\"+str(sj)\n",
    "        #print \"current source\",current\n",
    "        while (current != str(ti)+\"-\"+str(tj) and l <= dim*2):\n",
    "            d_min = 1000\n",
    "            edgelist[current] = []\n",
    "            ii = int(current.split(\"-\")[0])\n",
    "            ij = int(current.split(\"-\")[1])\n",
    "            if ii < dim-1:\n",
    "                if x[ii+1,ij] > 0:\n",
    "                    edgelist[str(ii)+\"-\"+str(ij)].append([str(ii+1)+\"-\"+str(ij),1])\n",
    "                if ij < dim -1:\n",
    "                    if x[ii+1,ij+1] > 0:\n",
    "                        edgelist[str(ii)+\"-\"+str(ij)].append([str(ii+1)+\"-\"+str(ij+1),2])\n",
    "                if ij > 0:\n",
    "                    if x[ii+1,ij-1] > 0:\n",
    "                        edgelist[str(ii)+\"-\"+str(ij)].append([str(ii+1)+\"-\"+str(ij-1),2])\n",
    "            if ij < dim-1:\n",
    "                if x[ii,ij+1] > 0:\n",
    "                    edgelist[str(ii)+\"-\"+str(ij)].append([str(ii)+\"-\"+str(ij+1),1])\n",
    "                if ii > 0:\n",
    "                    if x[ii-1,ij+1] > 0:\n",
    "                        edgelist[str(ii)+\"-\"+str(ij)].append([str(ii-1)+\"-\"+str(ij+1),2])\n",
    "            if ii > 0:\n",
    "                if x[ii-1,ij] > 0:\n",
    "                    edgelist[str(ii)+\"-\"+str(ij)].append([str(ii-1)+\"-\"+str(ij),1])\n",
    "                if ij > 0:\n",
    "                    if x[ii-1,ij-1] > 0:\n",
    "                        edgelist[str(ii)+\"-\"+str(ij)].append([str(ii-1)+\"-\"+str(ij-1),2])\n",
    "            if ij > 0:\n",
    "                if x[ii,ij-1] > 0:\n",
    "                    edgelist[str(ii)+\"-\"+str(ij)].append([str(ii)+\"-\"+str(ij-1),1])\n",
    "\n",
    "            #print \"edgelist without shortcut\",edgelist\n",
    "            no_shortcuts = 1\n",
    "            ## What is d_max ??\n",
    "            d_max = 1\n",
    "            shortcut_found = False\n",
    "            while not shortcut_found:\n",
    "                for shortcuts in range(no_shortcuts):\n",
    "                    r_sample = cstm.rvs()\n",
    "                    #print \"r_sample\", r_sample\n",
    "                    if (math.floor(r_sample*d_max) > 1):\n",
    "                        k = random.sample(range(int(math.floor(r_sample*d_max))),1)[0]\n",
    "                        #print \"k\", k\n",
    "                        k1 = k\n",
    "                        k2 = math.floor(r_sample*d_max) - k1\n",
    "                        #print \"k1, k2\", k1, k2\n",
    "                        ni = []\n",
    "                        nj = []\n",
    "                    if (ii + k1 <= dim-1) and (ij + k2 <= dim-1):\n",
    "                        if x[ii + k1,ij + k2] > 0:\n",
    "                            ni.append(ii + k1)\n",
    "                            nj.append(ij + k2)\n",
    "                    if (ii + k1 <= dim-1) and (ij - k2 >= 0):\n",
    "                        if x[ii + k1,ij - k2] > 0:\n",
    "                            ni.append(ii + k1)\n",
    "                            nj.append(ij - k2)\n",
    "                    if (ii - k1 >= 0) and (ij + k2 <= dim-1):\n",
    "                        if x[ii - k1,ij + k2] > 0:\n",
    "                            ni.append(ii - k1)\n",
    "                            nj.append(ij + k2)\n",
    "                    if (ii - k1 >= 0) and (ij - k2 >= 0):\n",
    "                        if x[ii - k1,ij - k2] > 0:\n",
    "                            ni.append(ii - k1)\n",
    "                            nj.append(ij - k2)\n",
    "                    #print \"ni-nj\" ,ni , nj\n",
    "                    if ni != []:\n",
    "                        k = random.sample(range(len(ni)),1)[0]\n",
    "                        edgelist[current].append([str(int(ni[k]))+\"-\"+str(int(nj[k])),1])\n",
    "                        shortcut_found = True\n",
    "            #print \"with shortcut\", edgelist\n",
    "            for p, footstep in edgelist[current]:\n",
    "                pi = p.split(\"-\")[0]\n",
    "                pj = p.split(\"-\")[1]\n",
    "                if spatial.distance.cityblock(np.array([ti,tj]),np.array([int(pi),int(pj)])) < d_min:\n",
    "                    d_min = spatial.distance.cityblock(np.array([ti,tj]),np.array([int(pi),int(pj)]))\n",
    "                    tempi = pi\n",
    "                    tempj = pj\n",
    "                    temp_footstep = footstep\n",
    "            current = tempi.rstrip()+\"-\"+tempj.rstrip()\n",
    "\n",
    "\n",
    "            #print \"next node is\", current, \"temp_footstep is\", temp_footstep\n",
    "            l = l + temp_footstep\n",
    "            #print \"current l\", l\n",
    "        #print \"final l\", l\n",
    "        print >> f_out, q1, l, si, sj, ti, tj\n",
    "        output_map[q1].append(l)\n",
    "\n",
    "f_out.close()"
   ]
  },
  {
   "cell_type": "markdown",
   "metadata": {},
   "source": [
    "The fractal dimension for the embedding lattice is, fd = 1.73009931755022. Now we are plotting the log of average steps taken vs the $\\alpha$ values."
   ]
  },
  {
   "cell_type": "code",
   "execution_count": null,
   "metadata": {
    "collapsed": false
   },
   "outputs": [],
   "source": [
    "output_for_plot = {n: sum(output_map[n])/float(len(output_map[n])) for n in output_map.keys()}\n",
    "plt.figure(figsize=(10,10))\n",
    "plt.plot(output_for_plot.keys(), np.log(output_for_plot.values()), 'ro')\n",
    "plt.title(\"\")\n",
    "plt.ylabel(\"ln T for the greedy algorithm\")\n",
    "plt.xlabel(r\"Clustering Exponent $\\alpha$\")\n",
    "plt.xticks(np.arange(0,2.6,0.2))\n",
    "plt.show()"
   ]
  }
 ],
 "metadata": {
  "kernelspec": {
   "display_name": "Python 2",
   "language": "python",
   "name": "python2"
  },
  "language_info": {
   "codemirror_mode": {
    "name": "ipython",
    "version": 2
   },
   "file_extension": ".py",
   "mimetype": "text/x-python",
   "name": "python",
   "nbconvert_exporter": "python",
   "pygments_lexer": "ipython2",
   "version": "2.7.6"
  }
 },
 "nbformat": 4,
 "nbformat_minor": 0
}
